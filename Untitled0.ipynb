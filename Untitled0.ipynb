{
  "nbformat": 4,
  "nbformat_minor": 0,
  "metadata": {
    "colab": {
      "provenance": [],
      "toc_visible": true,
      "include_colab_link": true
    },
    "kernelspec": {
      "name": "python3",
      "display_name": "Python 3"
    },
    "language_info": {
      "name": "python"
    }
  },
  "cells": [
    {
      "cell_type": "markdown",
      "metadata": {
        "id": "view-in-github",
        "colab_type": "text"
      },
      "source": [
        "<a href=\"https://colab.research.google.com/github/KararAbdullstar/Num/blob/main/Untitled0.ipynb\" target=\"_parent\"><img src=\"https://colab.research.google.com/assets/colab-badge.svg\" alt=\"Open In Colab\"/></a>"
      ]
    },
    {
      "cell_type": "code",
      "source": [],
      "metadata": {
        "id": "udZOVRpuB2Q-"
      },
      "execution_count": null,
      "outputs": []
    },
    {
      "cell_type": "code",
      "execution_count": null,
      "metadata": {
        "id": "txDpRGbs_2B_",
        "colab": {
          "base_uri": "https://localhost:8080/"
        },
        "outputId": "e3591738-2443-4281-bb5a-0277ded61c66"
      },
      "outputs": [
        {
          "output_type": "stream",
          "name": "stdout",
          "text": [
            "0.5570255162865259 3.7470027081099033e-16\n"
          ]
        }
      ],
      "source": [
        "def samesign(a, b):\n",
        "        return a * b > 0\n",
        "\n",
        "def bisect(func, low, high):\n",
        "    'Find root of continuous function where f(low) and f(high) have opposite signs'\n",
        "\n",
        "    assert not samesign(func(low), func(high))\n",
        "\n",
        "    for i in range(54):\n",
        "        midpoint = (low + high) / 2.0\n",
        "        if samesign(func(low), func(midpoint)):\n",
        "            low = midpoint\n",
        "        else:\n",
        "            high = midpoint\n",
        "\n",
        "    return midpoint\n",
        "\n",
        "def f(x):\n",
        "        return -26 + 85*x - 91*x**2 +44*x**3 -8*x**4 + x**5\n",
        "\n",
        "x = bisect(f, 0, 1)\n",
        "print(x, f(x))"
      ]
    },
    {
      "cell_type": "code",
      "source": [],
      "metadata": {
        "id": "OS9GeVcxB_rg"
      },
      "execution_count": null,
      "outputs": []
    }
  ]
}